{
 "cells": [
  {
   "cell_type": "markdown",
   "id": "c2dc474d-2edc-4cae-bf36-e9b395a385c6",
   "metadata": {
    "pycharm": {
     "name": "#%% md\n"
    }
   },
   "source": [
    "# FantasticSql\n",
    "\n",
    "![图1](data/1.png)\n"
   ]
  },
  {
   "cell_type": "markdown",
   "id": "b439a72bfd945985",
   "metadata": {
    "pycharm": {
     "name": "#%% md\n"
    }
   },
   "source": [
    "## 主程序"
   ]
  },
  {
   "cell_type": "code",
   "execution_count": 1,
   "id": "9cb87154a74477e",
   "metadata": {
    "pycharm": {
     "is_executing": true,
     "name": "#%%\n"
    }
   },
   "outputs": [],
   "source": [
    "from run import FantasticSql"
   ]
  },
  {
   "cell_type": "code",
   "execution_count": 2,
   "id": "43e3b157-470b-4254-af23-6b6ba161a1e9",
   "metadata": {
    "pycharm": {
     "name": "#%%\n"
    }
   },
   "outputs": [],
   "source": [
    "question_dict =  {\n",
    "        \"tid\": \"tttt----62\",\n",
    "        \"team\": [\n",
    "            {\n",
    "                \"id\": \"tttt----62----35-1-1\",\n",
    "                \"question\": \"博时基金公司成立于（XXXX年XX月XX日）？\",\n",
    "                \"answer\": \"博时基金公司成立于（1998年07月13日）\"\n",
    "            },\n",
    "            {\n",
    "                \"id\": \"tttt----62----35-1-2\",\n",
    "                \"question\": \"比博时基金成立更早的基金公司(简称)有哪些？\",\n",
    "                \"answer\": \"比博时基金成立更早的基金公司(简称)有：华夏基金和南方基金。\"\n",
    "            },\n",
    "            {\n",
    "                \"id\": \"tttt----62----35-1-3\",\n",
    "                \"question\": \"和博时基金属于同一地区的基金公司(简称)有哪些？\",\n",
    "                \"answer\": \"和博时基金属于同一地区的基金公司(简称)有：鹏华基金和南方基金。\"\n",
    "            }\n",
    "        ]\n",
    "    }"
   ]
  },
  {
   "cell_type": "code",
   "execution_count": 4,
   "id": "8b383019",
   "metadata": {
    "collapsed": false,
    "jupyter": {
     "outputs_hidden": false
    },
    "pycharm": {
     "name": "#%%\n"
    }
   },
   "outputs": [
    {
     "name": "stdout",
     "output_type": "stream",
     "text": [
      "```json\n",
      "[{\"基金公司简称\":\"博时\"}]\n",
      "```\n",
      "{\"success\":true,\"data\":[{\"ChiName\":\"博时基金管理有限公司\",\"CompanyCode\":41509}],\"count\":1}\n",
      "```json\n",
      "[\n",
      "    {\"question\":\"博时基金公司成立于（XXXX年XX月XX日）？\",\"query_requirements\":\"查询博时基金公司的成立日期\",\"table_name\":\"MF_InvestAdvisorOutline\"},\n",
      "    {\"question\":\"比博时基金成立更早的基金公司(简称)有哪些？\",\"query_requirements\":\"查询所有基金公司的成立日期并进行排序，筛选出成立日期早于博时基金的公司\",\"table_name\":\"MF_InvestAdvisorOutline\"},\n",
      "    {\"question\":\"和博时基金属于同一地区的基金公司(简称)有哪些？\",\"query_requirements\":\"查询博时基金公司的地区信息\",\"table_name\":\"MF_InvestAdvisorOutline\"},\n",
      "    {\"question\":\"和博时基金属于同一地区的基金公司(简称)有哪些？\",\"query_requirements\":\"查询与博时基金公司同一地区的其他基金公司\",\"table_name\":\"MF_InvestAdvisorOutline\"}\n",
      "]\n",
      "```\n",
      "```sql\n",
      "SELECT EstablishmentDate \n",
      "FROM PublicFundDB.MF_InvestAdvisorOutline \n",
      "WHERE InvestAdvisorCode = (\n",
      "  SELECT CompanyCode \n",
      "  FROM InstitutionDB.LC_InstiArchive \n",
      "  WHERE ChiName = '博时基金管理有限公司'\n",
      ");\n",
      "```\n",
      "{\"success\":true,\"data\":[{\"EstablishmentDate\":\"1998-07-13 12:00:00.000\"}],\"count\":1}\n",
      "博时基金公司成立于（1998年07月13日）。\n",
      "```sql\n",
      "SELECT DISTINCT InvestAdvisorAbbrName\n",
      "FROM PublicFundDB.MF_InvestAdvisorOutline\n",
      "WHERE DATE(STR_TO_DATE(EstablishmentDate, '%Y-%m-%d %H:%i:%s.%f')) < '1998-07-13'\n",
      "AND InvestAdvisorCode IN (\n",
      "  SELECT CompanyCode\n",
      "  FROM InstitutionDB.LC_InstiArchive\n",
      "  WHERE ChiName = '博时基金管理有限公司'\n",
      ");\n",
      "```\n",
      "{\"success\":true,\"data\":[],\"count\":0}\n",
      "目前没有找到比博时基金成立更早的基金公司。\n",
      "```sql\n",
      "SELECT DISTINCT InvestAdvisorAbbrName\n",
      "FROM PublicFundDB.MF_InvestAdvisorOutline\n",
      "WHERE Region = (\n",
      "  SELECT Region\n",
      "  FROM PublicFundDB.MF_InvestAdvisorOutline\n",
      "  WHERE InvestAdvisorCode = (\n",
      "    SELECT CompanyCode\n",
      "    FROM InstitutionDB.LC_InstiArchive\n",
      "    WHERE ChiName = '博时基金管理有限公司'\n",
      "  )\n",
      ");\n",
      "```\n",
      "{\"success\":true,\"data\":[{\"InvestAdvisorAbbrName\":\"鹏华基金\"},{\"InvestAdvisorAbbrName\":\"博时基金\"},{\"InvestAdvisorAbbrName\":\"南方基金\"}],\"count\":3}\n",
      "和博时基金属于同一地区的基金公司(简称)有：鹏华基金、博时基金、南方基金。\n"
     ]
    }
   ],
   "source": [
    "FantasticSql(question_dict)"
   ]
  },
  {
   "cell_type": "markdown",
   "source": [
    "# 简化说明"
   ],
   "metadata": {
    "collapsed": false,
    "pycharm": {
     "name": "#%% md\n"
    }
   }
  },
  {
   "cell_type": "code",
   "execution_count": null,
   "id": "39b996c8",
   "metadata": {
    "collapsed": false,
    "jupyter": {
     "outputs_hidden": false
    },
    "pycharm": {
     "name": "#%%\n"
    }
   },
   "outputs": [],
   "source": [
    "\n",
    "def FantasticSql_simple(question_dict):\n",
    "    question_list = question_dict['team']\n",
    "    question_content = '\\n'.join([i['question'] for i in question_list])\n",
    "    # 获取题目中的实体信息，提前获取innercode等信息\n",
    "    info, tables = process_question(question_content)\n",
    "    if info:\n",
    "        process_info = f\"实体匹配数据表信息为：{info}\"\n",
    "    else:\n",
    "        process_info = ''\n",
    "\n",
    "    # 输入所有表格，并找到题目所需要的表格\n",
    "    recall_tables = recall_table(question_content)\n",
    "    db_recall = list(set([i['table_name'] for i in recall_tables]))\n",
    "    table_desc = '\\n'.join([get_table_desc(i,recall_by=question_content,recall_num=20) for i in db_recall])\n",
    "\n",
    "    # 定义任务，要求写SQL\n",
    "    messages = [{'role': 'system', 'content': f'''\n",
    "用户的数据库描述为:\n",
    "{table_desc}\n",
    "{process_info}\n",
    "'''}]\n",
    "\n",
    "    question_list = question_dict['team']\n",
    "    question_dict['table'] = recall_tables\n",
    "    for q in question_list:\n",
    "        messages.append({'role': 'user', 'content': f\"\"\"\n",
    "请编写sql解决问题：{q['question']}，你有三次机会，你可以一次编写或者分步骤编写，sql在 ```sql ```内。\n",
    "请仅仅使用我给你的信息，不要自己编造code。\n",
    "\"\"\"})\n",
    "\n",
    "        for try_num in range(3):\n",
    "            answer = llm(messages)\n",
    "            if '```sql' in answer:\n",
    "                sql_result, sql = exec_sql(answer)\n",
    "                messages.append({'role': 'user', 'content': f\"\"\"sql查询结果为：{sql_result}，\n",
    "    如果可以回答问题：{q['question']}则回答\n",
    "    否则继续写sql\n",
    "    \"\"\"})\n",
    "                q['sql'] = sql\n",
    "            else:\n",
    "                q['answer'] = process_answer(answer)\n",
    "\n",
    "                # 每次回答都保存\n",
    "                with open('submit.json', 'w', encoding='utf8') as f:\n",
    "                    json.dump(all_question, f)\n",
    "                break"
   ]
  },
  {
   "cell_type": "code",
   "execution_count": null,
   "id": "7ccac051",
   "metadata": {
    "collapsed": false,
    "jupyter": {
     "outputs_hidden": false
    },
    "pycharm": {
     "name": "#%%\n"
    }
   },
   "outputs": [],
   "source": []
  }
 ],
 "metadata": {
  "kernelspec": {
   "display_name": "Python 3 (ipykernel)",
   "language": "python",
   "name": "python3"
  },
  "language_info": {
   "codemirror_mode": {
    "name": "ipython",
    "version": 3
   },
   "file_extension": ".py",
   "mimetype": "text/x-python",
   "name": "python",
   "nbconvert_exporter": "python",
   "pygments_lexer": "ipython3",
   "version": "3.10.11"
  }
 },
 "nbformat": 4,
 "nbformat_minor": 5
}