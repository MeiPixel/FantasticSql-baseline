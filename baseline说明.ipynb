{
 "cells": [
  {
   "cell_type": "markdown",
   "id": "c2dc474d-2edc-4cae-bf36-e9b395a385c6",
   "metadata": {
    "pycharm": {
     "name": "#%% md\n"
    }
   },
   "source": [
    "# FantasticSql\n",
    "\n",
    "![图1](data/1.png)\n"
   ]
  },
  {
   "cell_type": "code",
   "execution_count": 1,
   "id": "initial_id",
   "metadata": {
    "ExecuteTime": {
     "end_time": "2024-12-10T07:15:57.243015Z",
     "start_time": "2024-12-10T07:15:56.469472Z"
    },
    "pycharm": {
     "is_executing": true,
     "name": "#%%\n"
    }
   },
   "outputs": [],
   "source": [
    "from llm import llm,super_eval"
   ]
  },
  {
   "cell_type": "code",
   "execution_count": 2,
   "id": "d9058ae6-5db1-4aae-89bb-9d5927ce95a5",
   "metadata": {
    "pycharm": {
     "name": "#%%\n"
    }
   },
   "outputs": [],
   "source": [
    "from utils import get_table_desc,exec_sql\n",
    "from pre_process_question import process_question"
   ]
  },
  {
   "cell_type": "markdown",
   "id": "b439a72bfd945985",
   "metadata": {
    "pycharm": {
     "name": "#%% md\n"
    }
   },
   "source": [
    "## 召回表格"
   ]
  },
  {
   "cell_type": "code",
   "execution_count": null,
   "id": "9cb87154a74477e",
   "metadata": {
    "pycharm": {
     "is_executing": true,
     "name": "#%%\n"
    }
   },
   "outputs": [],
   "source": [
    "import pandas as pd\n",
    "from run import FantasticSql\n",
    "\n",
    "\n"
   ]
  },
  {
   "cell_type": "code",
   "execution_count": 4,
   "id": "43e3b157-470b-4254-af23-6b6ba161a1e9",
   "metadata": {
    "pycharm": {
     "name": "#%%\n"
    }
   },
   "outputs": [],
   "source": [
    "question_dict =  {\n",
    "        \"tid\": \"tttt----62\",\n",
    "        \"team\": [\n",
    "            {\n",
    "                \"id\": \"tttt----62----35-1-1\",\n",
    "                \"question\": \"博时基金公司成立于（XXXX年XX月XX日）？\",\n",
    "                \"answer\": \"博时基金公司成立于（1998年07月13日）\"\n",
    "            },\n",
    "            {\n",
    "                \"id\": \"tttt----62----35-1-2\",\n",
    "                \"question\": \"比博时基金成立更早的基金公司(简称)有哪些？\",\n",
    "                \"answer\": \"比博时基金成立更早的基金公司(简称)有：华夏基金和南方基金。\"\n",
    "            },\n",
    "            {\n",
    "                \"id\": \"tttt----62----35-1-3\",\n",
    "                \"question\": \"和博时基金属于同一地区的基金公司(简称)有哪些？\",\n",
    "                \"answer\": \"和博时基金属于同一地区的基金公司(简称)有：鹏华基金和南方基金。\"\n",
    "            }\n",
    "        ]\n",
    "    }"
   ]
  },
  {
   "cell_type": "code",
   "execution_count": 6,
   "id": "8b383019",
   "metadata": {
    "collapsed": false,
    "jupyter": {
     "outputs_hidden": false
    },
    "pycharm": {
     "name": "#%%\n"
    }
   },
   "outputs": [
    {
     "name": "stdout",
     "output_type": "stream",
     "text": [
      "```json\n",
      "[{\"公司名称\":\"博时基金公司\"}]\n",
      "```\n",
      "{\"detail\":\"Invalid authentication credentials\"}\n",
      "{'detail': 'Invalid authentication credentials'}\n",
      "Attempt 1 failed. Retrying...\n",
      "```json\n",
      "[{\"公司名称\":\"博时基金公司\"}]\n",
      "```\n",
      "{\"detail\":\"Invalid authentication credentials\"}\n",
      "{'detail': 'Invalid authentication credentials'}\n",
      "Attempt 2 failed. Retrying...\n",
      "```json\n",
      "[{\"公司名称\":\"博时基金公司\"}]\n",
      "```\n",
      "{\"detail\":\"Invalid authentication credentials\"}\n",
      "{'detail': 'Invalid authentication credentials'}\n"
     ]
    },
    {
     "ename": "KeyError",
     "evalue": "'data'",
     "output_type": "error",
     "traceback": [
      "\u001B[1;31m---------------------------------------------------------------------------\u001B[0m",
      "\u001B[1;31mKeyError\u001B[0m                                  Traceback (most recent call last)",
      "Cell \u001B[1;32mIn[6], line 1\u001B[0m\n\u001B[1;32m----> 1\u001B[0m \u001B[43mFantasticSql\u001B[49m\u001B[43m(\u001B[49m\u001B[43mquestion_dict\u001B[49m\u001B[43m,\u001B[49m\u001B[43mtime_back\u001B[49m\u001B[38;5;241;43m=\u001B[39;49m\u001B[38;5;28;43;01mFalse\u001B[39;49;00m\u001B[43m)\u001B[49m\n",
      "File \u001B[1;32mF:\\FantasticSql-baseline\\llm.py:28\u001B[0m, in \u001B[0;36mtry_n_times.<locals>.decorator.<locals>.wrapper\u001B[1;34m(*args, **kwargs)\u001B[0m\n\u001B[0;32m     26\u001B[0m \u001B[38;5;28;01mexcept\u001B[39;00m \u001B[38;5;167;01mException\u001B[39;00m \u001B[38;5;28;01mas\u001B[39;00m e:\n\u001B[0;32m     27\u001B[0m     \u001B[38;5;28;01mif\u001B[39;00m i \u001B[38;5;241m==\u001B[39m n \u001B[38;5;241m-\u001B[39m \u001B[38;5;241m1\u001B[39m:  \u001B[38;5;66;03m# 当达到最大尝试次数时，抛出异常\u001B[39;00m\n\u001B[1;32m---> 28\u001B[0m         \u001B[38;5;28;01mraise\u001B[39;00m e\n\u001B[0;32m     29\u001B[0m     \u001B[38;5;28mprint\u001B[39m(\u001B[38;5;124mf\u001B[39m\u001B[38;5;124m\"\u001B[39m\u001B[38;5;124mAttempt \u001B[39m\u001B[38;5;132;01m{\u001B[39;00mi\u001B[38;5;250m \u001B[39m\u001B[38;5;241m+\u001B[39m\u001B[38;5;250m \u001B[39m\u001B[38;5;241m1\u001B[39m\u001B[38;5;132;01m}\u001B[39;00m\u001B[38;5;124m failed. Retrying...\u001B[39m\u001B[38;5;124m\"\u001B[39m)\n\u001B[0;32m     30\u001B[0m     time\u001B[38;5;241m.\u001B[39msleep(\u001B[38;5;241m10\u001B[39m)\n",
      "File \u001B[1;32mF:\\FantasticSql-baseline\\llm.py:24\u001B[0m, in \u001B[0;36mtry_n_times.<locals>.decorator.<locals>.wrapper\u001B[1;34m(*args, **kwargs)\u001B[0m\n\u001B[0;32m     22\u001B[0m \u001B[38;5;28;01mfor\u001B[39;00m i \u001B[38;5;129;01min\u001B[39;00m \u001B[38;5;28mrange\u001B[39m(n):\n\u001B[0;32m     23\u001B[0m     \u001B[38;5;28;01mtry\u001B[39;00m:\n\u001B[1;32m---> 24\u001B[0m         result \u001B[38;5;241m=\u001B[39m func(\u001B[38;5;241m*\u001B[39margs, \u001B[38;5;241m*\u001B[39m\u001B[38;5;241m*\u001B[39mkwargs)\n\u001B[0;32m     25\u001B[0m         \u001B[38;5;28;01mreturn\u001B[39;00m result\n\u001B[0;32m     26\u001B[0m     \u001B[38;5;28;01mexcept\u001B[39;00m \u001B[38;5;167;01mException\u001B[39;00m \u001B[38;5;28;01mas\u001B[39;00m e:\n",
      "File \u001B[1;32mF:\\FantasticSql-baseline\\run.py:22\u001B[0m, in \u001B[0;36mFantasticSql\u001B[1;34m(question_dict, recall_column, time_back)\u001B[0m\n\u001B[0;32m     20\u001B[0m question_list \u001B[38;5;241m=\u001B[39m question_dict[\u001B[38;5;124m'\u001B[39m\u001B[38;5;124mteam\u001B[39m\u001B[38;5;124m'\u001B[39m]\n\u001B[0;32m     21\u001B[0m question_content \u001B[38;5;241m=\u001B[39m \u001B[38;5;124m'\u001B[39m\u001B[38;5;130;01m\\n\u001B[39;00m\u001B[38;5;124m'\u001B[39m\u001B[38;5;241m.\u001B[39mjoin([i[\u001B[38;5;124m'\u001B[39m\u001B[38;5;124mquestion\u001B[39m\u001B[38;5;124m'\u001B[39m] \u001B[38;5;28;01mfor\u001B[39;00m i \u001B[38;5;129;01min\u001B[39;00m question_list])\n\u001B[1;32m---> 22\u001B[0m info, tables \u001B[38;5;241m=\u001B[39m \u001B[43mprocess_question\u001B[49m\u001B[43m(\u001B[49m\u001B[43mquestion_content\u001B[49m\u001B[43m)\u001B[49m\n\u001B[0;32m     23\u001B[0m \u001B[38;5;28;01mif\u001B[39;00m info:\n\u001B[0;32m     24\u001B[0m     process_info \u001B[38;5;241m=\u001B[39m \u001B[38;5;124mf\u001B[39m\u001B[38;5;124m\"\u001B[39m\u001B[38;5;124m实体匹配数据表信息为：\u001B[39m\u001B[38;5;132;01m{\u001B[39;00minfo\u001B[38;5;132;01m}\u001B[39;00m\u001B[38;5;124m,查询尽量使用InnerCode。\u001B[39m\u001B[38;5;124m\"\u001B[39m\n",
      "File \u001B[1;32mF:\\FantasticSql-baseline\\pre_process_question.py:165\u001B[0m, in \u001B[0;36mprocess_question\u001B[1;34m(question)\u001B[0m\n\u001B[0;32m    163\u001B[0m a1 \u001B[38;5;241m=\u001B[39m llm(messages)\n\u001B[0;32m    164\u001B[0m a2 \u001B[38;5;241m=\u001B[39m super_eval(a1)\n\u001B[1;32m--> 165\u001B[0m \u001B[38;5;28;01mreturn\u001B[39;00m \u001B[43mprocess_items\u001B[49m\u001B[43m(\u001B[49m\u001B[43ma2\u001B[49m\u001B[43m)\u001B[49m\n",
      "File \u001B[1;32mF:\\FantasticSql-baseline\\pre_process_question.py:101\u001B[0m, in \u001B[0;36mprocess_items\u001B[1;34m(item_list)\u001B[0m\n\u001B[0;32m     99\u001B[0m     res_list\u001B[38;5;241m.\u001B[39mextend(process_company_name(value))\n\u001B[0;32m    100\u001B[0m \u001B[38;5;28;01melif\u001B[39;00m key \u001B[38;5;241m==\u001B[39m \u001B[38;5;124m\"\u001B[39m\u001B[38;5;124m公司名称\u001B[39m\u001B[38;5;124m\"\u001B[39m:\n\u001B[1;32m--> 101\u001B[0m     res_list\u001B[38;5;241m.\u001B[39mextend(\u001B[43mprocess_company_name\u001B[49m\u001B[43m(\u001B[49m\u001B[43mvalue\u001B[49m\u001B[43m)\u001B[49m)\n\u001B[0;32m    102\u001B[0m \u001B[38;5;28;01melif\u001B[39;00m key \u001B[38;5;241m==\u001B[39m \u001B[38;5;124m\"\u001B[39m\u001B[38;5;124m代码\u001B[39m\u001B[38;5;124m\"\u001B[39m:\n\u001B[0;32m    103\u001B[0m     res_list\u001B[38;5;241m.\u001B[39mextend(process_code(value))\n",
      "File \u001B[1;32mF:\\FantasticSql-baseline\\pre_process_question.py:54\u001B[0m, in \u001B[0;36mprocess_company_name\u001B[1;34m(value)\u001B[0m\n\u001B[0;32m     48\u001B[0m where_clause \u001B[38;5;241m=\u001B[39m \u001B[38;5;124m'\u001B[39m\u001B[38;5;124m OR \u001B[39m\u001B[38;5;124m'\u001B[39m\u001B[38;5;241m.\u001B[39mjoin(match_conditions)\n\u001B[0;32m     49\u001B[0m sql \u001B[38;5;241m=\u001B[39m \u001B[38;5;124mf\u001B[39m\u001B[38;5;124m\"\"\"\u001B[39m\n\u001B[0;32m     50\u001B[0m \u001B[38;5;124mSELECT \u001B[39m\u001B[38;5;132;01m{\u001B[39;00m\u001B[38;5;124m'\u001B[39m\u001B[38;5;124m, \u001B[39m\u001B[38;5;124m'\u001B[39m\u001B[38;5;241m.\u001B[39mjoin(columns_to_select)\u001B[38;5;132;01m}\u001B[39;00m\n\u001B[0;32m     51\u001B[0m \u001B[38;5;124mFROM \u001B[39m\u001B[38;5;132;01m{\u001B[39;00mtable\u001B[38;5;132;01m}\u001B[39;00m\n\u001B[0;32m     52\u001B[0m \u001B[38;5;124mWHERE \u001B[39m\u001B[38;5;132;01m{\u001B[39;00mwhere_clause\u001B[38;5;132;01m}\u001B[39;00m\n\u001B[0;32m     53\u001B[0m \u001B[38;5;124m\u001B[39m\u001B[38;5;124m\"\"\"\u001B[39m\n\u001B[1;32m---> 54\u001B[0m result \u001B[38;5;241m=\u001B[39m \u001B[43mexec_sql_s\u001B[49m\u001B[43m(\u001B[49m\u001B[43msql\u001B[49m\u001B[43m)\u001B[49m\n\u001B[0;32m     55\u001B[0m \u001B[38;5;28;01mif\u001B[39;00m result:\n\u001B[0;32m     56\u001B[0m     res_lst\u001B[38;5;241m.\u001B[39mappend((result, table))\n",
      "File \u001B[1;32mF:\\FantasticSql-baseline\\pre_process_question.py:19\u001B[0m, in \u001B[0;36mexec_sql_s\u001B[1;34m(sql)\u001B[0m\n\u001B[0;32m     17\u001B[0m \u001B[38;5;28;01mif\u001B[39;00m \u001B[38;5;124m'\u001B[39m\u001B[38;5;124mdata\u001B[39m\u001B[38;5;124m'\u001B[39m \u001B[38;5;129;01mnot\u001B[39;00m \u001B[38;5;129;01min\u001B[39;00m response\u001B[38;5;241m.\u001B[39mjson():\n\u001B[0;32m     18\u001B[0m     \u001B[38;5;28mprint\u001B[39m(response\u001B[38;5;241m.\u001B[39mjson())\n\u001B[1;32m---> 19\u001B[0m \u001B[38;5;28;01mreturn\u001B[39;00m \u001B[43mresponse\u001B[49m\u001B[38;5;241;43m.\u001B[39;49m\u001B[43mjson\u001B[49m\u001B[43m(\u001B[49m\u001B[43m)\u001B[49m\u001B[43m[\u001B[49m\u001B[38;5;124;43m'\u001B[39;49m\u001B[38;5;124;43mdata\u001B[39;49m\u001B[38;5;124;43m'\u001B[39;49m\u001B[43m]\u001B[49m\n",
      "\u001B[1;31mKeyError\u001B[0m: 'data'"
     ]
    }
   ],
   "source": [
    "FantasticSql(question_dict,time_back=False)"
   ]
  },
  {
   "cell_type": "code",
   "execution_count": null,
   "outputs": [],
   "source": [],
   "metadata": {
    "collapsed": false,
    "pycharm": {
     "name": "#%%\n"
    }
   }
  },
  {
   "cell_type": "code",
   "execution_count": null,
   "outputs": [],
   "source": [],
   "metadata": {
    "collapsed": false,
    "pycharm": {
     "name": "#%%\n"
    }
   }
  }
 ],
 "metadata": {
  "kernelspec": {
   "display_name": "Python 3 (ipykernel)",
   "language": "python",
   "name": "python3"
  },
  "language_info": {
   "codemirror_mode": {
    "name": "ipython",
    "version": 3
   },
   "file_extension": ".py",
   "mimetype": "text/x-python",
   "name": "python",
   "nbconvert_exporter": "python",
   "pygments_lexer": "ipython3",
   "version": "3.10.11"
  }
 },
 "nbformat": 4,
 "nbformat_minor": 5
}